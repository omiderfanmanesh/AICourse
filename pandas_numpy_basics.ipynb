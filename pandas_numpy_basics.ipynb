{
 "cells": [
  {
   "cell_type": "markdown",
   "id": "a8d392fa",
   "metadata": {},
   "source": [
    "# Pandas and NumPy Basics\n",
    "This notebook introduces the basic concepts of Pandas and NumPy for data manipulation and analysis."
   ]
  },
  {
   "cell_type": "markdown",
   "id": "a6e87ce3",
   "metadata": {},
   "source": [
    "## 1. Introduction\n",
    "- **NumPy**: A library for numerical computing in Python, providing support for arrays and mathematical functions.\n",
    "- **Pandas**: A library for data manipulation and analysis, built on top of NumPy."
   ]
  },
  {
   "cell_type": "markdown",
   "id": "969da52b",
   "metadata": {},
   "source": [
    "### Installation Guide\n",
    "Install Pandas and NumPy using pip:\n",
    "```bash\n",
    "pip install pandas numpy\n",
    "```"
   ]
  },
  {
   "cell_type": "code",
   "execution_count": null,
   "id": "358b2977",
   "metadata": {},
   "outputs": [],
   "source": [
    "import numpy as np\n",
    "import pandas as pd"
   ]
  },
  {
   "cell_type": "markdown",
   "id": "42f5395d",
   "metadata": {},
   "source": [
    "## 2. NumPy Basics"
   ]
  },
  {
   "cell_type": "code",
   "execution_count": null,
   "id": "35e40a8f",
   "metadata": {},
   "outputs": [],
   "source": [
    "\n",
    "# Creating Arrays\n",
    "arr1 = np.array([1, 2, 3, 4, 5])  # 1D array\n",
    "arr2 = np.array([[1, 2, 3], [4, 5, 6]])  # 2D array\n",
    "\n",
    "print(\"1D Array:\", arr1)\n",
    "print(\"2D Array:\", arr2)\n"
   ]
  },
  {
   "cell_type": "code",
   "execution_count": null,
   "id": "0444f951",
   "metadata": {},
   "outputs": [],
   "source": [
    "\n",
    "# Array Operations\n",
    "print(\"Sum:\", np.sum(arr1))\n",
    "print(\"Mean:\", np.mean(arr1))\n",
    "print(\"Reshape:\", arr2.reshape(3, 2))\n",
    "print(\"Element-wise Multiplication:\", arr1 * 2)\n"
   ]
  },
  {
   "cell_type": "code",
   "execution_count": null,
   "id": "3275031f",
   "metadata": {},
   "outputs": [],
   "source": [
    "\n",
    "# Indexing and Slicing\n",
    "print(\"First Element:\", arr1[0])\n",
    "print(\"Slice:\", arr1[1:4])\n",
    "print(\"Last Row of 2D Array:\", arr2[-1, :])\n"
   ]
  },
  {
   "cell_type": "markdown",
   "id": "29088798",
   "metadata": {},
   "source": [
    "## 3. Pandas Basics"
   ]
  },
  {
   "cell_type": "code",
   "execution_count": null,
   "id": "27edc4af",
   "metadata": {},
   "outputs": [],
   "source": [
    "\n",
    "# Creating DataFrames\n",
    "data = {\n",
    "    'Name': ['Alice', 'Bob', 'Charlie', 'David'],\n",
    "    'Age': [25, 30, 35, 40],\n",
    "    'Salary': [50000, 60000, 70000, 80000]\n",
    "}\n",
    "df = pd.DataFrame(data)\n",
    "print(\"DataFrame:\")\n",
    "print(df)\n"
   ]
  },
  {
   "cell_type": "code",
   "execution_count": null,
   "id": "caadd8dd",
   "metadata": {},
   "outputs": [],
   "source": [
    "\n",
    "# Reading and Writing Data\n",
    "df.to_csv(\"sample_data.csv\", index=False)\n",
    "print(\"DataFrame saved to sample_data.csv\")\n",
    "\n",
    "# To read it back:\n",
    "df_loaded = pd.read_csv(\"sample_data.csv\")\n",
    "print(\"Loaded DataFrame:\")\n",
    "print(df_loaded)\n"
   ]
  },
  {
   "cell_type": "code",
   "execution_count": null,
   "id": "82cecc35",
   "metadata": {},
   "outputs": [],
   "source": [
    "\n",
    "# Selecting Data\n",
    "print(\"Selecting Column:\", df['Name'])\n",
    "print(\"Selecting Row:\", df.iloc[1])\n",
    "print(\"Filtering:\")\n",
    "print(df[df['Age'] > 30])\n"
   ]
  },
  {
   "cell_type": "code",
   "execution_count": null,
   "id": "ffed72d1",
   "metadata": {},
   "outputs": [],
   "source": [
    "\n",
    "# Modifying Data\n",
    "df['Bonus'] = df['Salary'] * 0.1  # Add new column\n",
    "df.loc[df['Name'] == 'Alice', 'Salary'] = 55000  # Modify values\n",
    "print(\"Modified DataFrame:\")\n",
    "print(df)\n"
   ]
  },
  {
   "cell_type": "code",
   "execution_count": null,
   "id": "bdfdbd54",
   "metadata": {},
   "outputs": [],
   "source": [
    "\n",
    "# Grouping and Aggregation\n",
    "print(\"Average Salary by Age:\")\n",
    "print(df.groupby('Age')['Salary'].mean())\n"
   ]
  },
  {
   "cell_type": "code",
   "execution_count": null,
   "id": "b328203a",
   "metadata": {},
   "outputs": [],
   "source": [
    "\n",
    "# Sorting Data\n",
    "print(\"Sorted DataFrame:\")\n",
    "print(df.sort_values(by='Salary', ascending=False))\n"
   ]
  },
  {
   "cell_type": "code",
   "execution_count": null,
   "id": "7932ebd7",
   "metadata": {},
   "outputs": [],
   "source": [
    "\n",
    "# Handling Missing Data\n",
    "df.loc[2, 'Age'] = np.nan  # Introduce NaN value\n",
    "print(\"DataFrame with Missing Value:\")\n",
    "print(df)\n",
    "print(\"Handling Missing Data:\")\n",
    "df.fillna(df['Age'].mean(), inplace=True)  # Fill missing values with mean\n",
    "print(df)\n"
   ]
  },
  {
   "cell_type": "markdown",
   "id": "1ffb3ec8",
   "metadata": {},
   "source": [
    "## Conclusion\n",
    "This notebook introduced the basics of NumPy and Pandas, including array manipulations, data handling, and operations.\n",
    "Happy Learning! 🎉"
   ]
  }
 ],
 "metadata": {},
 "nbformat": 4,
 "nbformat_minor": 5
}
