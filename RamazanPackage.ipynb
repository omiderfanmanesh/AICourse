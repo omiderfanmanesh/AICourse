{
 "cells": [
  {
   "cell_type": "code",
   "execution_count": 1,
   "id": "a7d94f2a-6c1f-4938-b9a2-dacc26960d79",
   "metadata": {},
   "outputs": [
    {
     "name": "stdout",
     "output_type": "stream",
     "text": [
      "Hello\n"
     ]
    }
   ],
   "source": [
    "print(\"Hello\")"
   ]
  },
  {
   "cell_type": "code",
   "execution_count": 2,
   "id": "5d163852-469c-498a-8678-391b6f85b41c",
   "metadata": {},
   "outputs": [],
   "source": [
    "import pandas \n"
   ]
  },
  {
   "cell_type": "markdown",
   "id": "c7235f3a-6001-435e-bab5-70b39637310f",
   "metadata": {},
   "source": [
    "# AI Course\n",
    "Course description\n"
   ]
  },
  {
   "cell_type": "code",
   "execution_count": 6,
   "id": "b3ab91c6-0fc4-4d1a-b5df-f7beef2a4fa6",
   "metadata": {},
   "outputs": [
    {
     "name": "stdout",
     "output_type": "stream",
     "text": [
      " AI course\n"
     ]
    }
   ],
   "source": [
    "print(\" AI course\")"
   ]
  },
  {
   "cell_type": "code",
   "execution_count": null,
   "id": "6b6993e7-9a0e-4d36-9bfc-fe2afedbcf2a",
   "metadata": {},
   "outputs": [],
   "source": []
  },
  {
   "cell_type": "code",
   "execution_count": null,
   "id": "30a0666c-a8c8-4dd4-9e5f-f66722047b74",
   "metadata": {},
   "outputs": [],
   "source": []
  },
  {
   "cell_type": "code",
   "execution_count": null,
   "id": "8e1466e6-7267-4e1e-98aa-8444e831271a",
   "metadata": {},
   "outputs": [],
   "source": []
  }
 ],
 "metadata": {
  "kernelspec": {
   "display_name": "Python 3 (ipykernel)",
   "language": "python",
   "name": "python3"
  },
  "language_info": {
   "codemirror_mode": {
    "name": "ipython",
    "version": 3
   },
   "file_extension": ".py",
   "mimetype": "text/x-python",
   "name": "python",
   "nbconvert_exporter": "python",
   "pygments_lexer": "ipython3",
   "version": "3.13.2"
  }
 },
 "nbformat": 4,
 "nbformat_minor": 5
}
