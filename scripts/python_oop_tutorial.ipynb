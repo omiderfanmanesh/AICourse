{
 "cells": [
  {
   "cell_type": "markdown",
   "id": "1ab8f21f",
   "metadata": {},
   "source": [
    "# Object-Oriented Programming (OOP) in Python\n",
    "This notebook will guide you through the fundamental concepts of OOP in Python."
   ]
  },
  {
   "cell_type": "markdown",
   "id": "49726ad0",
   "metadata": {},
   "source": [
    "## 1. Introduction to OOP\n",
    "Object-Oriented Programming (OOP) is a programming paradigm that uses objects and classes."
   ]
  },
  {
   "cell_type": "markdown",
   "id": "cfc4c30a",
   "metadata": {},
   "source": [
    "## 2. Classes and Objects"
   ]
  },
  {
   "cell_type": "code",
   "execution_count": null,
   "id": "5d49bfba",
   "metadata": {},
   "outputs": [],
   "source": [
    "class Person:\n",
    "    def __init__(self, name, age):\n",
    "        self.name = name\n",
    "        self.age = age\n",
    "    \n",
    "    def greet(self):\n",
    "        return f\"Hello, my name is {self.name} and I am {self.age} years old.\"\n",
    "\n",
    "# Creating an object\n",
    "person1 = Person(\"Alice\", 25)\n",
    "print(person1.greet())"
   ]
  },
  {
   "cell_type": "markdown",
   "id": "8e688a47",
   "metadata": {},
   "source": [
    "## 3. Inheritance\n",
    "Inheritance allows a class to inherit properties and methods from another class."
   ]
  },
  {
   "cell_type": "code",
   "execution_count": null,
   "id": "552478f8",
   "metadata": {},
   "outputs": [],
   "source": [
    "class Student(Person):\n",
    "    def __init__(self, name, age, grade):\n",
    "        super().__init__(name, age)\n",
    "        self.grade = grade\n",
    "    \n",
    "    def study(self):\n",
    "        return f\"{self.name} is studying in grade {self.grade}.\"\n",
    "\n",
    "student1 = Student(\"Bob\", 20, \"12th\")\n",
    "print(student1.greet())\n",
    "print(student1.study())"
   ]
  },
  {
   "cell_type": "markdown",
   "id": "1cf977b3",
   "metadata": {},
   "source": [
    "## 4. Encapsulation\n",
    "Encapsulation restricts direct access to some of an object's components."
   ]
  },
  {
   "cell_type": "code",
   "execution_count": 3,
   "id": "38fb4aa8",
   "metadata": {},
   "outputs": [
    {
     "name": "stdout",
     "output_type": "stream",
     "text": [
      "Balance: 1200\n"
     ]
    }
   ],
   "source": [
    "class BankAccount:\n",
    "    def __init__(self, balance):\n",
    "        self.__balance = balance  # Private attribute\n",
    "    \n",
    "    def deposit(self, amount):\n",
    "        self.__balance += amount\n",
    "    \n",
    "    def withdraw(self, amount):\n",
    "        if amount <= self.__balance:\n",
    "            self.__balance -= amount\n",
    "        else:\n",
    "            print(\"Insufficient funds\")\n",
    "    \n",
    "    def get_balance(self):\n",
    "        return self.__balance\n",
    "\n",
    "account = BankAccount(1000)\n",
    "account.deposit(500)\n",
    "account.withdraw(300)\n",
    "print(\"Balance:\", account.get_balance())"
   ]
  },
  {
   "cell_type": "markdown",
   "id": "a1aa7836",
   "metadata": {},
   "source": [
    "## 5. Polymorphism\n",
    "Polymorphism allows methods in different classes to have the same name but different implementations."
   ]
  },
  {
   "cell_type": "code",
   "execution_count": 4,
   "id": "6302d2a5",
   "metadata": {},
   "outputs": [
    {
     "name": "stdout",
     "output_type": "stream",
     "text": [
      "Bark\n",
      "Meow\n"
     ]
    }
   ],
   "source": [
    "class Dog:\n",
    "    def sound(self):\n",
    "        return \"Bark\"\n",
    "\n",
    "class Cat:\n",
    "    def sound(self):\n",
    "        return \"Meow\"\n",
    "\n",
    "def make_sound(animal):\n",
    "    print(animal.sound())\n",
    "\n",
    "dog = Dog()\n",
    "cat = Cat()\n",
    "make_sound(dog)\n",
    "make_sound(cat)"
   ]
  },
  {
   "cell_type": "markdown",
   "id": "7d288bbd",
   "metadata": {},
   "source": [
    "## 6. Abstraction\n",
    "Abstraction hides implementation details and only exposes relevant functionality."
   ]
  },
  {
   "cell_type": "code",
   "execution_count": 5,
   "id": "ce100b34",
   "metadata": {},
   "outputs": [
    {
     "name": "stdout",
     "output_type": "stream",
     "text": [
      "Car is driving\n",
      "Boat is sailing\n"
     ]
    }
   ],
   "source": [
    "from abc import ABC, abstractmethod\n",
    "\n",
    "class Vehicle(ABC):\n",
    "    @abstractmethod\n",
    "    def move(self):\n",
    "        pass\n",
    "\n",
    "class Car(Vehicle):\n",
    "    def move(self):\n",
    "        return \"Car is driving\"\n",
    "\n",
    "class Boat(Vehicle):\n",
    "    def move(self):\n",
    "        return \"Boat is sailing\"\n",
    "\n",
    "car = Car()\n",
    "boat = Boat()\n",
    "print(car.move())\n",
    "print(boat.move())"
   ]
  },
  {
   "cell_type": "markdown",
   "id": "60b724ad",
   "metadata": {},
   "source": [
    "## 7. OOP Best Practices\n",
    "- Use meaningful class and method names\n",
    "- Keep classes focused on a single responsibility\n",
    "- Use encapsulation to protect data\n",
    "- Follow DRY (Don't Repeat Yourself) principle\n",
    "- Write modular and reusable code"
   ]
  },
  {
   "cell_type": "markdown",
   "id": "3d625b5e",
   "metadata": {},
   "source": [
    "## Congratulations! You have learned the basics of OOP in Python."
   ]
  }
 ],
 "metadata": {
  "kernelspec": {
   "display_name": "AI-Course",
   "language": "python",
   "name": "python3"
  },
  "language_info": {
   "codemirror_mode": {
    "name": "ipython",
    "version": 3
   },
   "file_extension": ".py",
   "mimetype": "text/x-python",
   "name": "python",
   "nbconvert_exporter": "python",
   "pygments_lexer": "ipython3",
   "version": "3.11.5"
  }
 },
 "nbformat": 4,
 "nbformat_minor": 5
}
