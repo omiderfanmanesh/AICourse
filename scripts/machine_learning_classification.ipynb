{
 "cells": [
  {
   "cell_type": "markdown",
   "id": "245c2fc4",
   "metadata": {},
   "source": [
    "# Machine Learning Basics: Classification\n",
    "This notebook introduces the basic concepts of machine learning with a focus on classification."
   ]
  },
  {
   "cell_type": "markdown",
   "id": "1c86cc60",
   "metadata": {},
   "source": [
    "## 1. Introduction to Classification\n",
    "Classification is a supervised learning technique used to categorize data into predefined classes."
   ]
  },
  {
   "cell_type": "markdown",
   "id": "c565fda9",
   "metadata": {},
   "source": [
    "## 2. Support Vector Machine (SVM) for Multi-Class Classification using the IRIS Dataset\n",
    "SVM is used for classification problems where the target variable has multiple classes."
   ]
  },
  {
   "cell_type": "markdown",
   "id": "a125eeee",
   "metadata": {},
   "source": [
    "### 2.1 The IRIS Dataset\n",
    "The IRIS dataset consists of 150 samples from three different species of iris flowers: Setosa, Versicolor, and Virginica.\n",
    "Each sample has four features: sepal length, sepal width, petal length, and petal width."
   ]
  },
  {
   "cell_type": "markdown",
   "id": "c4657cdc",
   "metadata": {},
   "source": [
    "## 3. Example: Multi-Class Classification with SVM"
   ]
  },
  {
   "cell_type": "code",
   "execution_count": null,
   "id": "a4adaa23",
   "metadata": {},
   "outputs": [],
   "source": [
    "\n",
    "import numpy as np\n",
    "import matplotlib.pyplot as plt\n",
    "import seaborn as sns\n",
    "from sklearn.svm import SVC\n",
    "from sklearn.model_selection import train_test_split\n",
    "from sklearn.metrics import accuracy_score, classification_report, confusion_matrix\n",
    "from sklearn import datasets\n",
    "from mlxtend.plotting import plot_decision_regions\n",
    "\n",
    "# Load the IRIS dataset\n",
    "iris = datasets.load_iris()\n",
    "X = iris.data[:, :2]  # Using only first two features for visualization\n",
    "y = iris.target  # Labels\n",
    "\n",
    "# Splitting data\n",
    "X_train, X_test, y_train, y_test = train_test_split(X, y, test_size=0.2, random_state=42)\n",
    "\n",
    "# Training the model\n",
    "model = SVC(kernel='linear', probability=True)\n",
    "model.fit(X_train, y_train)\n",
    "\n",
    "# Making predictions\n",
    "y_pred = model.predict(X_test)\n",
    "\n",
    "# Evaluating the model\n",
    "accuracy = accuracy_score(y_test, y_pred)\n",
    "print(f\"Accuracy: {accuracy:.2f}\")\n",
    "print(classification_report(y_test, y_pred))\n",
    "\n",
    "# Confusion matrix visualization\n",
    "conf_matrix = confusion_matrix(y_test, y_pred)\n",
    "sns.heatmap(conf_matrix, annot=True, cmap='Blues', xticklabels=iris.target_names, yticklabels=iris.target_names)\n",
    "plt.xlabel('Predicted')\n",
    "plt.ylabel('Actual')\n",
    "plt.title('Confusion Matrix - SVM')\n",
    "plt.show()\n",
    "\n",
    "# SVM Decision Boundary Visualization\n",
    "plt.figure(figsize=(8, 6))\n",
    "plot_decision_regions(X_train, y_train, clf=model, legend=2)\n",
    "handles, labels = plt.gca().get_legend_handles_labels()\n",
    "plt.legend(handles, iris.target_names, title=\"Classes\")\n",
    "plt.xlabel('Sepal Length')\n",
    "plt.ylabel('Sepal Width')\n",
    "plt.title('SVM Decision Boundary')\n",
    "plt.show()\n"
   ]
  },
  {
   "cell_type": "markdown",
   "id": "1171c51b",
   "metadata": {},
   "source": [
    "## 4. Complex Example: Multi-Class Classification with Decision Trees"
   ]
  },
  {
   "cell_type": "code",
   "execution_count": null,
   "id": "0ed8a27f",
   "metadata": {},
   "outputs": [],
   "source": [
    "\n",
    "from sklearn.tree import DecisionTreeClassifier, plot_tree\n",
    "\n",
    "# Training the model\n",
    "model_complex = DecisionTreeClassifier()\n",
    "model_complex.fit(X_train, y_train)\n",
    "\n",
    "# Making predictions\n",
    "y_pred_complex = model_complex.predict(X_test)\n",
    "\n",
    "# Evaluating the model\n",
    "accuracy_complex = accuracy_score(y_test, y_pred_complex)\n",
    "print(f\"Decision Tree Model Accuracy: {accuracy_complex:.2f}\")\n",
    "print(classification_report(y_test, y_pred_complex))\n",
    "\n",
    "# Decision Tree visualization\n",
    "plt.figure(figsize=(12, 8))\n",
    "plot_tree(model_complex, filled=True, feature_names=iris.feature_names[:2], class_names=iris.target_names)\n",
    "plt.title('Decision Tree Visualization')\n",
    "plt.show()\n"
   ]
  },
  {
   "cell_type": "markdown",
   "id": "70f1a15f",
   "metadata": {},
   "source": [
    "## Conclusion\n",
    "This notebook introduced classification and demonstrated SVM for multi-class classification using the IRIS dataset.\n",
    "It also included a more complex example with multi-class classification using decision trees.\n",
    "Happy Learning! 🎉"
   ]
  }
 ],
 "metadata": {},
 "nbformat": 4,
 "nbformat_minor": 5
}
