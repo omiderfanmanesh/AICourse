{
 "cells": [
  {
   "cell_type": "markdown",
   "id": "77a3546b",
   "metadata": {},
   "source": [
    "# Machine Learning Basics: Linear Regression\n",
    "This notebook introduces the basic concepts of machine learning with a focus on linear regression."
   ]
  },
  {
   "cell_type": "markdown",
   "id": "280060ad",
   "metadata": {},
   "source": [
    "## 1. Introduction to Machine Learning\n",
    "Machine Learning (ML) is a field of artificial intelligence that enables computers to learn patterns from data."
   ]
  },
  {
   "cell_type": "markdown",
   "id": "1122b861",
   "metadata": {},
   "source": [
    "## 2. Linear Regression\n",
    "Linear regression is a statistical method used to model the relationship between a dependent variable (y) and one or more independent variables (x)."
   ]
  },
  {
   "cell_type": "markdown",
   "id": "6a59e74f",
   "metadata": {},
   "source": [
    "### 2.1 The Mathematical Formula\n",
    "For a simple linear regression with one feature:\n",
    "\\[ y = b_0 + b_1x \\]\n",
    "For multiple features (multiple linear regression):\n",
    "\\[ y = b_0 + b_1x_1 + b_2x_2 + ... + b_nx_n \\]\n",
    "The goal is to find the coefficients \\( b_0, b_1, b_2, ..., b_n \\) that minimize the error."
   ]
  },
  {
   "cell_type": "markdown",
   "id": "70fa221e",
   "metadata": {},
   "source": [
    "## 3. Ordinary Least Squares (OLS) Method\n",
    "The OLS method estimates the coefficients by minimizing the sum of squared residuals."
   ]
  },
  {
   "cell_type": "markdown",
   "id": "7ae7553d",
   "metadata": {},
   "source": [
    "## 4. Example: Finding Coefficients Manually"
   ]
  },
  {
   "cell_type": "code",
   "execution_count": null,
   "id": "563a203e",
   "metadata": {},
   "outputs": [],
   "source": [
    "import numpy as np\n",
    "import matplotlib.pyplot as plt\n",
    "\n",
    "# Example data\n",
    "X = np.array([1, 2, 3, 4, 5])  # Independent variable\n",
    "y = np.array([2, 3, 5, 7, 11])  # Dependent variable\n",
    "\n",
    "# Compute means\n",
    "X_mean = np.mean(X)\n",
    "y_mean = np.mean(y)\n",
    "\n",
    "# Compute coefficients manually\n",
    "b1 = np.sum((X - X_mean) * (y - y_mean)) / np.sum((X - X_mean) ** 2)\n",
    "b0 = y_mean - b1 * X_mean\n",
    "\n",
    "print(f\"Calculated coefficients: b0 = {b0:.2f}, b1 = {b1:.2f}\")"
   ]
  },
  {
   "cell_type": "markdown",
   "id": "b3ce2ca1",
   "metadata": {},
   "source": [
    "## 5. Implementing Regression using Scikit-Learn"
   ]
  },
  {
   "cell_type": "code",
   "execution_count": null,
   "id": "e91366a2",
   "metadata": {},
   "outputs": [],
   "source": [
    "from sklearn.linear_model import LinearRegression\n",
    "\n",
    "# Reshape data for sklearn\n",
    "X = X.reshape(-1, 1)\n",
    "\n",
    "# Train the model\n",
    "model = LinearRegression()\n",
    "model.fit(X, y)\n",
    "\n",
    "# Get coefficients\n",
    "b0_sklearn = model.intercept_\n",
    "b1_sklearn = model.coef_[0]\n",
    "\n",
    "print(f\"Scikit-learn coefficients: b0 = {b0_sklearn:.2f}, b1 = {b1_sklearn:.2f}\")"
   ]
  },
  {
   "cell_type": "markdown",
   "id": "8b4216df",
   "metadata": {},
   "source": [
    "## 6. Visualizing the Regression Line"
   ]
  },
  {
   "cell_type": "code",
   "execution_count": null,
   "id": "c1edf80a",
   "metadata": {},
   "outputs": [],
   "source": [
    "plt.scatter(X, y, color='blue', label='Data Points')\n",
    "plt.plot(X, model.predict(X), color='red', label='Regression Line')\n",
    "plt.xlabel('X')\n",
    "plt.ylabel('y')\n",
    "plt.legend()\n",
    "plt.show()"
   ]
  },
  {
   "cell_type": "markdown",
   "id": "b1f9661a",
   "metadata": {},
   "source": [
    "## Conclusion\n",
    "This notebook introduced linear regression and demonstrated how to calculate coefficients manually and using scikit-learn. You also visualized the regression line. Happy Learning! 🎉"
   ]
  }
 ],
 "metadata": {
  "kernelspec": {
   "display_name": "AI-Course",
   "language": "python",
   "name": "python3"
  },
  "language_info": {
   "name": "python",
   "version": "3.11.5"
  }
 },
 "nbformat": 4,
 "nbformat_minor": 5
}
