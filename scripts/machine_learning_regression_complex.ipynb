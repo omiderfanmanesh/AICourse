{
 "cells": [
  {
   "cell_type": "markdown",
   "id": "bad5c989",
   "metadata": {},
   "source": [
    "# Machine Learning Basics: Linear Regression\n",
    "This notebook introduces the basic concepts of machine learning with a focus on linear regression."
   ]
  },
  {
   "cell_type": "markdown",
   "id": "03f24a82",
   "metadata": {},
   "source": [
    "## 1. Introduction to Machine Learning\n",
    "Machine Learning (ML) is a field of artificial intelligence that enables computers to learn patterns from data."
   ]
  },
  {
   "cell_type": "markdown",
   "id": "06c4a19e",
   "metadata": {},
   "source": [
    "## 2. Linear Regression\n",
    "Linear regression is a statistical method used to model the relationship between a dependent variable (y) and one or more independent variables (x)."
   ]
  },
  {
   "cell_type": "markdown",
   "id": "563a702f",
   "metadata": {},
   "source": [
    "### 2.1 The Mathematical Formula\n",
    "For a simple linear regression with one feature:\n",
    "\\[ y = b_0 + b_1x \\]\n",
    "For multiple features (multiple linear regression):\n",
    "\\[ y = b_0 + b_1x_1 + b_2x_2 + ... + b_nx_n \\]\n",
    "The goal is to find the coefficients \\( b_0, b_1, ..., b_n \\) that minimize the error."
   ]
  },
  {
   "cell_type": "markdown",
   "id": "b7ed85db",
   "metadata": {},
   "source": [
    "## 3. Ordinary Least Squares (OLS) Method\n",
    "The OLS method estimates the coefficients by minimizing the sum of squared residuals."
   ]
  },
  {
   "cell_type": "markdown",
   "id": "91e0bbda",
   "metadata": {},
   "source": [
    "## 4. Example: Finding Coefficients Manually"
   ]
  },
  {
   "cell_type": "code",
   "execution_count": null,
   "id": "028c0ea3",
   "metadata": {},
   "outputs": [],
   "source": [
    "import numpy as np\n",
    "import matplotlib.pyplot as plt\n",
    "\n",
    "# Example data\n",
    "X = np.array([1, 2, 3, 4, 5])  # Independent variable\n",
    "y = np.array([2, 3, 5, 7, 11])  # Dependent variable\n",
    "\n",
    "# Compute means\n",
    "X_mean = np.mean(X)\n",
    "y_mean = np.mean(y)\n",
    "\n",
    "# Compute coefficients manually\n",
    "b1 = np.sum((X - X_mean) * (y - y_mean)) / np.sum((X - X_mean) ** 2)\n",
    "b0 = y_mean - b1 * X_mean\n",
    "\n",
    "print(f\"Calculated coefficients: b0 = {b0:.2f}, b1 = {b1:.2f}\")"
   ]
  },
  {
   "cell_type": "markdown",
   "id": "f940799c",
   "metadata": {},
   "source": [
    "## 5. Implementing Regression using Scikit-Learn"
   ]
  },
  {
   "cell_type": "code",
   "execution_count": null,
   "id": "c0c913e4",
   "metadata": {},
   "outputs": [],
   "source": [
    "from sklearn.linear_model import LinearRegression\n",
    "\n",
    "# Reshape data for sklearn\n",
    "X = X.reshape(-1, 1)\n",
    "\n",
    "# Train the model\n",
    "model = LinearRegression()\n",
    "model.fit(X, y)\n",
    "\n",
    "# Get coefficients\n",
    "b0_sklearn = model.intercept_\n",
    "b1_sklearn = model.coef_[0]\n",
    "\n",
    "print(f\"Scikit-learn coefficients: b0 = {b0_sklearn:.2f}, b1 = {b1_sklearn:.2f}\")"
   ]
  },
  {
   "cell_type": "markdown",
   "id": "3ba9e9ae",
   "metadata": {},
   "source": [
    "## 6. Visualizing the Regression Line"
   ]
  },
  {
   "cell_type": "code",
   "execution_count": null,
   "id": "433f4790",
   "metadata": {},
   "outputs": [],
   "source": [
    "plt.scatter(X, y, color='blue', label='Data Points')\n",
    "plt.plot(X, model.predict(X), color='red', label='Regression Line')\n",
    "plt.xlabel('X')\n",
    "plt.ylabel('y')\n",
    "plt.legend()\n",
    "plt.show()"
   ]
  },
  {
   "cell_type": "markdown",
   "id": "da913552",
   "metadata": {},
   "source": [
    "## 7. Complex Example: Multiple Linear Regression"
   ]
  },
  {
   "cell_type": "code",
   "execution_count": null,
   "id": "447acf50",
   "metadata": {},
   "outputs": [],
   "source": [
    "from sklearn.model_selection import train_test_split\n",
    "from sklearn.metrics import mean_squared_error\n",
    "\n",
    "# Generating a dataset with multiple features\n",
    "np.random.seed(42)\n",
    "X_complex = np.random.rand(100, 3)  # Three independent variables\n",
    "y_complex = 3 + 5 * X_complex[:, 0] + 2 * X_complex[:, 1] + 1.5 * X_complex[:, 2] + np.random.randn(100)  # Target variable\n",
    "\n",
    "# Splitting into training and test sets\n",
    "X_train, X_test, y_train, y_test = train_test_split(X_complex, y_complex, test_size=0.2, random_state=42)\n",
    "\n",
    "# Training the model\n",
    "model_complex = LinearRegression()\n",
    "model_complex.fit(X_train, y_train)\n",
    "\n",
    "# Getting coefficients\n",
    "b0_complex = model_complex.intercept_\n",
    "b1_complex, b2_complex, b3_complex = model_complex.coef_\n",
    "\n",
    "print(f\"Complex Model Coefficients: b0 = {b0_complex:.2f}, b1 = {b1_complex:.2f}, b2 = {b2_complex:.2f}, b3 = {b3_complex:.2f}\")\n",
    "\n",
    "# Making predictions\n",
    "y_pred = model_complex.predict(X_test)\n",
    "\n",
    "# Evaluating the model\n",
    "mse = mean_squared_error(y_test, y_pred)\n",
    "print(f\"Mean Squared Error: {mse:.2f}\")"
   ]
  },
  {
   "cell_type": "markdown",
   "id": "f47fba53",
   "metadata": {},
   "source": [
    "## Conclusion\n",
    "This notebook introduced linear regression and demonstrated how to calculate coefficients manually and using scikit-learn. \n",
    "It also included a more complex example with multiple features and evaluation metrics. \n",
    "Happy Learning! 🎉"
   ]
  }
 ],
 "metadata": {
  "kernelspec": {
   "display_name": "AI-Course",
   "language": "python",
   "name": "python3"
  },
  "language_info": {
   "name": "python",
   "version": "3.11.5"
  }
 },
 "nbformat": 4,
 "nbformat_minor": 5
}
