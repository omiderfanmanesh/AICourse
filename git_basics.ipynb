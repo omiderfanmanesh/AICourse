{
 "cells": [
  {
   "cell_type": "markdown",
   "id": "f8ff6a9d",
   "metadata": {},
   "source": [
    "# Git Basics\n",
    "This notebook introduces the basic Git commands for version control."
   ]
  },
  {
   "cell_type": "markdown",
   "id": "371f80ee",
   "metadata": {},
   "source": [
    "## 1. Introduction to Git\n",
    "Git is a distributed version control system that helps track changes in code and collaborate with others."
   ]
  },
  {
   "cell_type": "markdown",
   "id": "b25d8f92",
   "metadata": {},
   "source": [
    "### Installation Guide\n",
    "Install Git using:\n",
    "- **Windows**: Download from [git-scm.com](https://git-scm.com/)\n",
    "- **Linux (Ubuntu/Debian)**: `sudo apt install git`\n",
    "- **MacOS**: `brew install git`"
   ]
  },
  {
   "cell_type": "markdown",
   "id": "0532ab95",
   "metadata": {},
   "source": [
    "## 2. Configuring Git\n",
    "Set up your username and email:\n",
    "```bash\n",
    "git config --global user.name \"Your Name\"\n",
    "git config --global user.email \"your.email@example.com\"\n",
    "```"
   ]
  },
  {
   "cell_type": "markdown",
   "id": "45afbc6f",
   "metadata": {},
   "source": [
    "## 3. Initializing a Repository\n",
    "Create a new Git repository:\n",
    "```bash\n",
    "mkdir my_project\n",
    "cd my_project\n",
    "git init\n",
    "```"
   ]
  },
  {
   "cell_type": "markdown",
   "id": "ee6fed8c",
   "metadata": {},
   "source": [
    "## 4. Checking Status and Adding Files\n",
    "```bash\n",
    "git status  # Check the status of your repo\n",
    "git add file.txt  # Add a single file\n",
    "git add .  # Add all files in the directory\n",
    "```"
   ]
  },
  {
   "cell_type": "markdown",
   "id": "db6722d6",
   "metadata": {},
   "source": [
    "## 5. Committing Changes\n",
    "```bash\n",
    "git commit -m \"Initial commit\"  # Commit with a message\n",
    "```"
   ]
  },
  {
   "cell_type": "markdown",
   "id": "46bed8f7",
   "metadata": {},
   "source": [
    "## 6. Viewing Commit History\n",
    "```bash\n",
    "git log  # Show commit history\n",
    "git log --oneline --graph  # Simplified view\n",
    "```"
   ]
  },
  {
   "cell_type": "markdown",
   "id": "8756fd19",
   "metadata": {},
   "source": [
    "## 7. Creating and Switching Branches\n",
    "```bash\n",
    "git branch new-feature  # Create a new branch\n",
    "git checkout new-feature  # Switch to the new branch\n",
    "git checkout -b another-feature  # Create and switch to a new branch\n",
    "```"
   ]
  },
  {
   "cell_type": "markdown",
   "id": "392be9fd",
   "metadata": {},
   "source": [
    "## 8. Merging Branches\n",
    "```bash\n",
    "git checkout main  # Switch to the main branch\n",
    "git merge new-feature  # Merge a branch into main\n",
    "```"
   ]
  },
  {
   "cell_type": "markdown",
   "id": "5154b63b",
   "metadata": {},
   "source": [
    "## 9. Cloning a Repository\n",
    "```bash\n",
    "git clone https://github.com/user/repo.git  # Clone a remote repository\n",
    "```"
   ]
  },
  {
   "cell_type": "markdown",
   "id": "1f190d76",
   "metadata": {},
   "source": [
    "## 10. Pushing Changes to Remote Repository\n",
    "```bash\n",
    "git remote add origin https://github.com/user/repo.git  # Link local repo to remote\n",
    "git push -u origin main  # Push commits to remote repository\n",
    "```"
   ]
  },
  {
   "cell_type": "markdown",
   "id": "7c5ffbba",
   "metadata": {},
   "source": [
    "## 11. Pulling Changes from Remote Repository\n",
    "```bash\n",
    "git pull origin main  # Get latest changes from remote\n",
    "```"
   ]
  },
  {
   "cell_type": "markdown",
   "id": "88e30e10",
   "metadata": {},
   "source": [
    "## 12. Stashing Changes\n",
    "```bash\n",
    "git stash  # Save changes without committing\n",
    "git stash pop  # Apply stashed changes\n",
    "```"
   ]
  },
  {
   "cell_type": "markdown",
   "id": "1de6ac08",
   "metadata": {},
   "source": [
    "## 13. Resetting and Reverting Changes\n",
    "```bash\n",
    "git reset --hard HEAD  # Reset to last commit\n",
    "git revert <commit_hash>  # Undo a commit without losing history\n",
    "```"
   ]
  },
  {
   "cell_type": "markdown",
   "id": "eb36094a",
   "metadata": {},
   "source": [
    "## Conclusion\n",
    "This notebook introduced essential Git commands for version control.\n",
    "Happy Coding! 🚀"
   ]
  }
 ],
 "metadata": {
  "kernelspec": {
   "display_name": "Python 3 (ipykernel)",
   "language": "python",
   "name": "python3"
  },
  "language_info": {
   "codemirror_mode": {
    "name": "ipython",
    "version": 3
   },
   "file_extension": ".py",
   "mimetype": "text/x-python",
   "name": "python",
   "nbconvert_exporter": "python",
   "pygments_lexer": "ipython3",
   "version": "3.13.2"
  }
 },
 "nbformat": 4,
 "nbformat_minor": 5
}
