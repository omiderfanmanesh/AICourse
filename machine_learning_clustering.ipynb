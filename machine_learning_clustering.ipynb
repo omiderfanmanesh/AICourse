{
 "cells": [
  {
   "cell_type": "markdown",
   "id": "90ba2529",
   "metadata": {},
   "source": [
    "# Machine Learning Basics: Clustering\n",
    "This notebook introduces the basic concepts of machine learning with a focus on clustering."
   ]
  },
  {
   "cell_type": "markdown",
   "id": "90371708",
   "metadata": {},
   "source": [
    "## 1. Introduction to Clustering\n",
    "Clustering is an unsupervised learning technique used to group similar data points together based on patterns in the data."
   ]
  },
  {
   "cell_type": "markdown",
   "id": "ef4aa5ed",
   "metadata": {},
   "source": [
    "## 2. K-Means Clustering with Randomly Generated Data\n",
    "K-Means is a popular clustering algorithm that partitions the dataset into K clusters."
   ]
  },
  {
   "cell_type": "markdown",
   "id": "3896d53e",
   "metadata": {},
   "source": [
    "## 3. Example: Clustering with K-Means"
   ]
  },
  {
   "cell_type": "code",
   "execution_count": null,
   "id": "f01b5d18",
   "metadata": {},
   "outputs": [],
   "source": [
    "\n",
    "import numpy as np\n",
    "import matplotlib.pyplot as plt\n",
    "import seaborn as sns\n",
    "from sklearn.cluster import KMeans, DBSCAN, AgglomerativeClustering\n",
    "from sklearn.metrics import silhouette_score\n",
    "from scipy.cluster.hierarchy import dendrogram, linkage\n",
    "from matplotlib.patches import Circle\n",
    "\n",
    "# Generate random dataset\n",
    "np.random.seed(42)\n",
    "X = np.random.rand(50, 2) * 100  # Generating random data with two features\n",
    "\n",
    "# Applying K-Means Clustering\n",
    "kmeans = KMeans(n_clusters=3, random_state=42, n_init=10)\n",
    "kmeans.fit(X)\n",
    "y_kmeans = kmeans.labels_\n",
    "\n",
    "# Check if more than one cluster is formed before computing silhouette score\n",
    "if len(set(y_kmeans)) > 1:\n",
    "    silhouette_avg = silhouette_score(X, y_kmeans)\n",
    "    print(f\"K-Means Silhouette Score: {silhouette_avg:.2f}\")\n",
    "else:\n",
    "    print(\"K-Means formed only one cluster; silhouette score cannot be computed.\")\n",
    "\n",
    "# Scatter plot of clusters\n",
    "plt.figure(figsize=(8, 6))\n",
    "sns.scatterplot(x=X[:, 0], y=X[:, 1], hue=y_kmeans, palette='viridis', legend='full')\n",
    "plt.scatter(kmeans.cluster_centers_[:, 0], kmeans.cluster_centers_[:, 1], s=200, c='red', label='Centroids')\n",
    "plt.xlabel('Feature 1')\n",
    "plt.ylabel('Feature 2')\n",
    "plt.title('K-Means Clustering with Random Data')\n",
    "plt.legend()\n",
    "plt.show()\n"
   ]
  },
  {
   "cell_type": "markdown",
   "id": "d3960849",
   "metadata": {},
   "source": [
    "## 4. DBSCAN Clustering"
   ]
  },
  {
   "cell_type": "code",
   "execution_count": null,
   "id": "4129f357",
   "metadata": {},
   "outputs": [],
   "source": [
    "\n",
    "# DBSCAN (Density-Based Spatial Clustering of Applications with Noise) is useful for finding clusters with irregular shapes.\n",
    "# The `eps` parameter defines the radius of a neighborhood, and `min_samples` determines the minimum points required to form a cluster.\n",
    "dbscan = DBSCAN(eps=5, min_samples=3)\n",
    "y_dbscan = dbscan.fit_predict(X)\n",
    "\n",
    "# Identifying noise points\n",
    "noise_points = y_dbscan == -1\n",
    "\n",
    "# Evaluating DBSCAN only if clusters exist\n",
    "if len(set(y_dbscan) - {-1}) > 1:\n",
    "    dbscan_silhouette = silhouette_score(X[y_dbscan != -1], y_dbscan[y_dbscan != -1])\n",
    "    print(f\"DBSCAN Silhouette Score: {dbscan_silhouette:.2f}\")\n",
    "else:\n",
    "    print(\"DBSCAN did not find enough clusters to compute a silhouette score.\")\n",
    "\n",
    "# Scatter plot for DBSCAN with circles around clusters\n",
    "plt.figure(figsize=(8, 6))\n",
    "sns.scatterplot(x=X[:, 0], y=X[:, 1], hue=y_dbscan, palette='coolwarm', legend='full')\n",
    "plt.scatter(X[noise_points, 0], X[noise_points, 1], color='black', label='Noise', marker='x')\n",
    "\n",
    "# Draw circles around clusters\n",
    "for cluster in set(y_dbscan) - {-1}:  # Exclude noise points\n",
    "    cluster_points = X[y_dbscan == cluster]\n",
    "    center = cluster_points.mean(axis=0)\n",
    "    radius = np.max(np.linalg.norm(cluster_points - center, axis=1))\n",
    "    circle = Circle(center, radius, color='gray', fill=False, linestyle='dashed')\n",
    "    plt.gca().add_patch(circle)\n",
    "\n",
    "plt.xlabel('Feature 1')\n",
    "plt.ylabel('Feature 2')\n",
    "plt.title('DBSCAN Clustering with Circles')\n",
    "plt.legend()\n",
    "plt.show()\n"
   ]
  },
  {
   "cell_type": "markdown",
   "id": "6c03a80d",
   "metadata": {},
   "source": [
    "## 5. Agglomerative Hierarchical Clustering"
   ]
  },
  {
   "cell_type": "code",
   "execution_count": null,
   "id": "8b43ead6",
   "metadata": {},
   "outputs": [],
   "source": [
    "\n",
    "# Hierarchical clustering builds a hierarchy of clusters.\n",
    "# The linkage method determines how distances between clusters are measured.\n",
    "hierarchical = AgglomerativeClustering(n_clusters=3)\n",
    "y_hierarchical = hierarchical.fit_predict(X)\n",
    "\n",
    "# Check if more than one cluster is formed before computing silhouette score\n",
    "if len(set(y_hierarchical)) > 1:\n",
    "    hierarchical_silhouette = silhouette_score(X, y_hierarchical)\n",
    "    print(f\"Agglomerative Clustering Silhouette Score: {hierarchical_silhouette:.2f}\")\n",
    "else:\n",
    "    print(\"Agglomerative clustering formed only one cluster; silhouette score cannot be computed.\")\n",
    "\n",
    "# Plot dendrogram with clear labels\n",
    "linked = linkage(X, method='ward')\n",
    "plt.figure(figsize=(10, 6))\n",
    "dendrogram(linked, truncate_mode='level', p=5)\n",
    "plt.title('Hierarchical Clustering Dendrogram (Truncated)')\n",
    "plt.xlabel('Cluster Index')\n",
    "plt.ylabel('Distance')\n",
    "plt.show()\n"
   ]
  },
  {
   "cell_type": "markdown",
   "id": "38c4844a",
   "metadata": {},
   "source": [
    "## Conclusion\n",
    "This notebook introduced clustering with multiple algorithms: K-Means, DBSCAN, and Agglomerative Clustering.\n",
    "It used randomly generated data to illustrate clustering concepts.\n",
    "Checks were added to prevent silhouette score computation errors when only one cluster is formed.\n",
    "DBSCAN clusters and noise points were clearly visualized, with circles added around detected clusters.\n",
    "The hierarchical dendrogram was truncated for better readability.\n",
    "Happy Learning! 🎉"
   ]
  }
 ],
 "metadata": {},
 "nbformat": 4,
 "nbformat_minor": 5
}
