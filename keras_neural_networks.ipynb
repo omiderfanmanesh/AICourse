{
 "cells": [
  {
   "cell_type": "markdown",
   "id": "0faefdc0",
   "metadata": {},
   "source": [
    "# Neural Networks with Keras\n",
    "This notebook introduces the basic concepts of neural networks using Keras."
   ]
  },
  {
   "cell_type": "markdown",
   "id": "835109a3",
   "metadata": {},
   "source": [
    "## 1. Introduction to Keras\n",
    "Keras is a high-level API running on top of TensorFlow, designed for fast prototyping and easy-to-use neural networks."
   ]
  },
  {
   "cell_type": "markdown",
   "id": "4ca507ec",
   "metadata": {},
   "source": [
    "### Installation Guide\n",
    "Install TensorFlow and Keras using pip:\n",
    "```bash\n",
    "pip install tensorflow keras matplotlib numpy\n",
    "```"
   ]
  },
  {
   "cell_type": "code",
   "execution_count": null,
   "id": "e2314493",
   "metadata": {},
   "outputs": [],
   "source": [
    "\n",
    "import numpy as np\n",
    "import matplotlib.pyplot as plt\n",
    "from tensorflow import keras\n",
    "from sklearn.model_selection import train_test_split\n",
    "from sklearn.preprocessing import StandardScaler\n",
    "from sklearn.datasets import make_moons\n"
   ]
  },
  {
   "cell_type": "markdown",
   "id": "e396c177",
   "metadata": {},
   "source": [
    "## 2. Generating Data for Classification"
   ]
  },
  {
   "cell_type": "code",
   "execution_count": null,
   "id": "c576d8f9",
   "metadata": {},
   "outputs": [],
   "source": [
    "\n",
    "# Generate a non-linear dataset to illustrate how neural networks work.\n",
    "X, y = make_moons(n_samples=1000, noise=0.2, random_state=42)\n",
    "X_train, X_test, y_train, y_test = train_test_split(X, y, test_size=0.2, random_state=42)\n",
    "\n",
    "# Standardizing the data\n",
    "scaler = StandardScaler()\n",
    "X_train = scaler.fit_transform(X_train)\n",
    "X_test = scaler.transform(X_test)\n"
   ]
  },
  {
   "cell_type": "markdown",
   "id": "8d75d06a",
   "metadata": {},
   "source": [
    "## 3. Building a Neural Network with Keras"
   ]
  },
  {
   "cell_type": "code",
   "execution_count": null,
   "id": "0c0c7104",
   "metadata": {},
   "outputs": [],
   "source": [
    "\n",
    "# We create a simple feedforward neural network using Keras.\n",
    "model = keras.Sequential([\n",
    "    keras.layers.Dense(10, activation='relu', input_shape=(2,)),\n",
    "    keras.layers.Dense(8, activation='relu'),\n",
    "    keras.layers.Dense(1, activation='sigmoid')\n",
    "])\n",
    "\n",
    "# Compile the model\n",
    "model.compile(optimizer='adam', loss='binary_crossentropy', metrics=['accuracy'])\n",
    "\n",
    "# Train the model\n",
    "history = model.fit(X_train, y_train, epochs=50, validation_data=(X_test, y_test), verbose=1)\n"
   ]
  },
  {
   "cell_type": "markdown",
   "id": "6febaf6c",
   "metadata": {},
   "source": [
    "## 4. Evaluating the Model"
   ]
  },
  {
   "cell_type": "code",
   "execution_count": null,
   "id": "b9cacd9a",
   "metadata": {},
   "outputs": [],
   "source": [
    "\n",
    "loss, accuracy = model.evaluate(X_test, y_test)\n",
    "print(f\"Test Accuracy: {accuracy:.2f}\")\n"
   ]
  },
  {
   "cell_type": "markdown",
   "id": "7c05a08f",
   "metadata": {},
   "source": [
    "## 5. Plotting the Training Curve"
   ]
  },
  {
   "cell_type": "code",
   "execution_count": null,
   "id": "3749b494",
   "metadata": {},
   "outputs": [],
   "source": [
    "\n",
    "plt.plot(history.history['accuracy'], label='Train Accuracy')\n",
    "plt.plot(history.history['val_accuracy'], label='Validation Accuracy')\n",
    "plt.xlabel('Epoch')\n",
    "plt.ylabel('Accuracy')\n",
    "plt.legend()\n",
    "plt.title('Neural Network Training Progress')\n",
    "plt.show()\n"
   ]
  },
  {
   "cell_type": "markdown",
   "id": "c02c93cf",
   "metadata": {},
   "source": [
    "## 6. Visualizing the Decision Boundary"
   ]
  },
  {
   "cell_type": "code",
   "execution_count": null,
   "id": "f5b9f677",
   "metadata": {},
   "outputs": [],
   "source": [
    "\n",
    "# Creating a mesh grid to plot the decision boundary\n",
    "def plot_decision_boundary(model, X, y):\n",
    "    x_min, x_max = X[:, 0].min() - 1, X[:, 0].max() + 1\n",
    "    y_min, y_max = X[:, 1].min() - 1, X[:, 1].max() + 1\n",
    "    xx, yy = np.meshgrid(np.linspace(x_min, x_max, 100),\n",
    "                         np.linspace(y_min, y_max, 100))\n",
    "    Z = model.predict(np.c_[xx.ravel(), yy.ravel()])\n",
    "    Z = (Z > 0.5).astype(int)\n",
    "    Z = Z.reshape(xx.shape)\n",
    "    plt.contourf(xx, yy, Z, alpha=0.8)\n",
    "    plt.scatter(X[:, 0], X[:, 1], c=y, edgecolor='k', cmap=plt.cm.Paired)\n",
    "    plt.xlabel('Feature 1')\n",
    "    plt.ylabel('Feature 2')\n",
    "    plt.title('Keras Neural Network Decision Boundary')\n",
    "    plt.show()\n",
    "\n",
    "plot_decision_boundary(model, X_test, y_test)\n"
   ]
  },
  {
   "cell_type": "markdown",
   "id": "b4e25af7",
   "metadata": {},
   "source": [
    "## Conclusion\n",
    "This notebook introduced the basics of neural networks with Keras.\n",
    "It included training a simple model and visualizing its decision boundary.\n",
    "Happy Learning! 🎉"
   ]
  }
 ],
 "metadata": {},
 "nbformat": 4,
 "nbformat_minor": 5
}
