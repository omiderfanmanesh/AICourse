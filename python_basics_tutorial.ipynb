{
 "cells": [
  {
   "cell_type": "markdown",
   "id": "93bfe4a4",
   "metadata": {},
   "source": [
    "# Python Basics Tutorial\n",
    "This notebook will guide you through the fundamental concepts of Python programming."
   ]
  },
  {
   "cell_type": "code",
   "execution_count": null,
   "id": "70bbdd90",
   "metadata": {},
   "outputs": [],
   "source": [
    "print(\"Hello, World!\")"
   ]
  },
  {
   "cell_type": "markdown",
   "id": "c24c094e",
   "metadata": {},
   "source": [
    "## Variables and Data Types"
   ]
  },
  {
   "cell_type": "code",
   "execution_count": null,
   "id": "8abfab6d",
   "metadata": {},
   "outputs": [],
   "source": [
    "x = 10  # Integer\n",
    "y = 3.14  # Float\n",
    "name = \"Alice\"  # String\n",
    "is_python_fun = True  # Boolean\n",
    "print(x, y, name, is_python_fun)"
   ]
  },
  {
   "cell_type": "markdown",
   "id": "9cfde767",
   "metadata": {},
   "source": [
    "## Basic Arithmetic Operations"
   ]
  },
  {
   "cell_type": "code",
   "execution_count": null,
   "id": "58628242",
   "metadata": {},
   "outputs": [],
   "source": [
    "sum_value = 5 + 3\n",
    "product = 5 * 3\n",
    "division = 10 / 2\n",
    "power = 2 ** 3\n",
    "modulus = 10 % 3\n",
    "print(\"Sum:\", sum_value, \"Product:\", product, \"Division:\", division, \"Power:\", power, \"Modulus:\", modulus)"
   ]
  },
  {
   "cell_type": "markdown",
   "id": "42df3750",
   "metadata": {},
   "source": [
    "## Lists and Tuples"
   ]
  },
  {
   "cell_type": "code",
   "execution_count": null,
   "id": "8c065490",
   "metadata": {},
   "outputs": [],
   "source": [
    "my_list = [1, 2, 3, 4, 5]\n",
    "my_tuple = (10, 20, 30, 40, 50)\n",
    "print(\"List:\", my_list)\n",
    "print(\"Tuple:\", my_tuple)"
   ]
  },
  {
   "cell_type": "markdown",
   "id": "3371580b",
   "metadata": {},
   "source": [
    "## Conditional Statements"
   ]
  },
  {
   "cell_type": "code",
   "execution_count": null,
   "id": "359787b2",
   "metadata": {},
   "outputs": [],
   "source": [
    "num = 10\n",
    "if num > 5:\n",
    "    print(\"Number is greater than 5\")\n",
    "elif num == 5:\n",
    "    print(\"Number is 5\")\n",
    "else:\n",
    "    print(\"Number is less than 5\")"
   ]
  },
  {
   "cell_type": "markdown",
   "id": "8489b972",
   "metadata": {},
   "source": [
    "## Loops"
   ]
  },
  {
   "cell_type": "code",
   "execution_count": null,
   "id": "9e03d03a",
   "metadata": {},
   "outputs": [],
   "source": [
    "# For Loop\n",
    "for i in range(5):\n",
    "    print(\"Iteration:\", i)"
   ]
  },
  {
   "cell_type": "code",
   "execution_count": null,
   "id": "582cdbd3",
   "metadata": {},
   "outputs": [],
   "source": [
    "# While Loop\n",
    "count = 0\n",
    "while count < 3:\n",
    "    print(\"Count:\", count)\n",
    "    count += 1"
   ]
  },
  {
   "cell_type": "markdown",
   "id": "18dad5fd",
   "metadata": {},
   "source": [
    "## Functions"
   ]
  },
  {
   "cell_type": "code",
   "execution_count": null,
   "id": "984fc29a",
   "metadata": {},
   "outputs": [],
   "source": [
    "def greet(name):\n",
    "    return \"Hello, \" + name\n",
    "print(greet(\"Alice\"))"
   ]
  },
  {
   "cell_type": "markdown",
   "id": "72d1e1c9",
   "metadata": {},
   "source": [
    "## Dictionaries"
   ]
  },
  {
   "cell_type": "code",
   "execution_count": null,
   "id": "2bd78ca1",
   "metadata": {},
   "outputs": [],
   "source": [
    "person = {\"name\": \"Alice\", \"age\": 25, \"city\": \"New York\"}\n",
    "print(\"Name:\", person[\"name\"], \"Age:\", person[\"age\"], \"City:\", person[\"city\"])"
   ]
  },
  {
   "cell_type": "markdown",
   "id": "0eaff6e8",
   "metadata": {},
   "source": [
    "## Exception Handling"
   ]
  },
  {
   "cell_type": "code",
   "execution_count": null,
   "id": "c4b025a2",
   "metadata": {},
   "outputs": [],
   "source": [
    "try:\n",
    "    result = 10 / 0\n",
    "except ZeroDivisionError:\n",
    "    print(\"Error: Division by zero is not allowed\")"
   ]
  },
  {
   "cell_type": "markdown",
   "id": "e1b1b08f",
   "metadata": {},
   "source": [
    "## File Handling"
   ]
  },
  {
   "cell_type": "code",
   "execution_count": null,
   "id": "6269d1ab",
   "metadata": {},
   "outputs": [],
   "source": [
    "with open(\"sample.txt\", \"w\") as file:\n",
    "    file.write(\"Hello, this is a sample file!\")\n",
    "\n",
    "with open(\"sample.txt\", \"r\") as file:\n",
    "    content = file.read()\n",
    "    print(\"File Content:\", content)"
   ]
  },
  {
   "cell_type": "markdown",
   "id": "ae47254e",
   "metadata": {},
   "source": [
    "## Congratulations! You've covered the basics of Python!"
   ]
  }
 ],
 "metadata": {
  "kernelspec": {
   "display_name": "Python 3 (ipykernel)",
   "language": "python",
   "name": "python3"
  },
  "language_info": {
   "codemirror_mode": {
    "name": "ipython",
    "version": 3
   },
   "file_extension": ".py",
   "mimetype": "text/x-python",
   "name": "python",
   "nbconvert_exporter": "python",
   "pygments_lexer": "ipython3",
   "version": "3.13.2"
  }
 },
 "nbformat": 4,
 "nbformat_minor": 5
}
