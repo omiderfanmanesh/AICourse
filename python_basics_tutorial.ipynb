{
 "cells": [
  {
   "cell_type": "markdown",
   "id": "93bfe4a4",
   "metadata": {},
   "source": [
    "# Python Basics Tutorial\n",
    "This notebook will guide you through the fundamental concepts of Python programming."
   ]
  },
  {
   "cell_type": "code",
   "execution_count": 1,
   "id": "70bbdd90",
   "metadata": {},
   "outputs": [
    {
     "name": "stdout",
     "output_type": "stream",
     "text": [
      "Hello, World!\n"
     ]
    }
   ],
   "source": [
    "print(\"Hello, World!\")"
   ]
  },
  {
   "cell_type": "markdown",
   "id": "c24c094e",
   "metadata": {},
   "source": [
    "## Variables and Data Types"
   ]
  },
  {
   "cell_type": "code",
   "execution_count": 2,
   "id": "8abfab6d",
   "metadata": {},
   "outputs": [
    {
     "name": "stdout",
     "output_type": "stream",
     "text": [
      "10 3.14 Alice True\n"
     ]
    }
   ],
   "source": [
    "x = 10  # Integer\n",
    "y = 3.14  # Float\n",
    "name = \"Alice\"  # String\n",
    "is_python_fun = True  # Boolean\n",
    "print(x, y, name, is_python_fun)"
   ]
  },
  {
   "cell_type": "code",
   "execution_count": 8,
   "id": "b0dc78f1-394e-4af1-a376-e73fc3ce7409",
   "metadata": {},
   "outputs": [
    {
     "name": "stdout",
     "output_type": "stream",
     "text": [
      "{x}\n",
      "10\n"
     ]
    }
   ],
   "source": [
    "print('{x}')\n",
    "print(f'{x}')"
   ]
  },
  {
   "cell_type": "code",
   "execution_count": 9,
   "id": "55789eee-0ada-44fe-bd44-d8e6623118cf",
   "metadata": {},
   "outputs": [
    {
     "name": "stdout",
     "output_type": "stream",
     "text": [
      "2*2= 4 akjsdhkajhsd 10 3.14 True\n"
     ]
    }
   ],
   "source": [
    "print(f'2*2= {4} akjsdhkajhsd {x} {y} {is_python_fun}')"
   ]
  },
  {
   "cell_type": "markdown",
   "id": "9cfde767",
   "metadata": {},
   "source": [
    "## Basic Arithmetic Operations"
   ]
  },
  {
   "cell_type": "code",
   "execution_count": 13,
   "id": "58628242",
   "metadata": {},
   "outputs": [
    {
     "name": "stdout",
     "output_type": "stream",
     "text": [
      "Sum: 8 Product: 15 Division: 5.0 Power: 8 Modulus: 1\n",
      "Sum:, 8\n"
     ]
    }
   ],
   "source": [
    "sum_value = 5 + 3\n",
    "product = 5 * 3\n",
    "division = 10 / 2\n",
    "power = 2 ** 3\n",
    "modulus = 10 % 3\n",
    "print(\"Sum:\", sum_value, \"Product:\", product, \"Division:\", division, \"Power:\", power, \"Modulus:\", modulus)\n",
    "print(f'Sum:, {sum_value}')"
   ]
  },
  {
   "cell_type": "markdown",
   "id": "42df3750",
   "metadata": {},
   "source": [
    "## Lists and Tuples"
   ]
  },
  {
   "cell_type": "code",
   "execution_count": null,
   "id": "420e51af-3381-4165-a9b3-2dc46e5da399",
   "metadata": {},
   "outputs": [],
   "source": [
    "student1= \"mohse\"\n",
    "student2=\"mehdi\"\n"
   ]
  },
  {
   "cell_type": "code",
   "execution_count": 14,
   "id": "8c065490",
   "metadata": {},
   "outputs": [
    {
     "name": "stdout",
     "output_type": "stream",
     "text": [
      "List: [1, 2, 3, 4, 5]\n",
      "Tuple: (10, 20, 30, 40, 50)\n"
     ]
    }
   ],
   "source": [
    "my_list = [1, 2, 3, 4, 5]\n",
    "studnets = [\"mohsen\",\"mehdi\"]\n",
    "my_tuple = (10, 20, 30, 40, 50)\n",
    "print(\"List:\", my_list)\n",
    "print(\"Tuple:\", my_tuple)"
   ]
  },
  {
   "cell_type": "code",
   "execution_count": 16,
   "id": "21ef0fc8-18d5-402b-a3fb-502de4c07492",
   "metadata": {},
   "outputs": [
    {
     "name": "stdout",
     "output_type": "stream",
     "text": [
      " There are 2 students\n"
     ]
    }
   ],
   "source": [
    "print(f' There are {len(studnets)} students')"
   ]
  },
  {
   "cell_type": "markdown",
   "id": "3371580b",
   "metadata": {},
   "source": [
    "## Conditional Statements"
   ]
  },
  {
   "cell_type": "code",
   "execution_count": 31,
   "id": "359787b2",
   "metadata": {},
   "outputs": [
    {
     "name": "stdout",
     "output_type": "stream",
     "text": [
      "True\n",
      "False\n",
      "Number is 5\n",
      "5\n"
     ]
    }
   ],
   "source": [
    "num = 5\n",
    "\n",
    "result = (num > 5)\n",
    "print(f'{num == 5}')\n",
    "print(f'{result}')\n",
    "\n",
    "if num > 5:\n",
    "    print(\"Number is greater than 5\")\n",
    "    print(num)\n",
    "    num = 200 * num\n",
    "    print(num)\n",
    "elif num == 5:\n",
    "    print(\"Number is 5\")\n",
    "else:\n",
    "    print(\"Number is less than 5\")\n",
    "\n",
    "print(num)"
   ]
  },
  {
   "cell_type": "markdown",
   "id": "8489b972",
   "metadata": {},
   "source": [
    "## Loops"
   ]
  },
  {
   "cell_type": "code",
   "execution_count": 32,
   "id": "9e03d03a",
   "metadata": {},
   "outputs": [
    {
     "name": "stdout",
     "output_type": "stream",
     "text": [
      "Iteration: 0\n",
      "Iteration: 1\n",
      "Iteration: 2\n",
      "Iteration: 3\n",
      "Iteration: 4\n"
     ]
    }
   ],
   "source": [
    "# For Loop\n",
    "for i in range(5):\n",
    "    print(\"Iteration:\", i)"
   ]
  },
  {
   "cell_type": "code",
   "execution_count": 33,
   "id": "0ec70260-9024-4604-8588-f076c59ac4af",
   "metadata": {},
   "outputs": [
    {
     "name": "stdout",
     "output_type": "stream",
     "text": [
      "Iteration: 3\n",
      "Iteration: 4\n"
     ]
    }
   ],
   "source": [
    "for i in range(3,5):\n",
    "    print(\"Iteration:\", i)\n",
    "    "
   ]
  },
  {
   "cell_type": "code",
   "execution_count": 5,
   "id": "85cccb98-a162-49c4-9dd6-81f1d1e2e1d3",
   "metadata": {},
   "outputs": [
    {
     "name": "stdout",
     "output_type": "stream",
     "text": [
      "Iteration: 0\n",
      "Iteration: 1\n",
      "Iteration: 2\n",
      "Iteration: 3\n",
      "Iteration: 4\n",
      "Iteration: 5\n",
      "Iteration: 6\n",
      "Iteration: 7\n",
      "Iteration: 8\n",
      "Iteration: 9\n",
      "Iteration: 10\n"
     ]
    }
   ],
   "source": [
    "# For Loop\n",
    "for i in range(15):\n",
    "    print(\"Iteration:\", i)\n",
    "    if i == 10:\n",
    "        break"
   ]
  },
  {
   "cell_type": "code",
   "execution_count": 6,
   "id": "6ddb2d84-69ec-4651-b351-3f1d6c1d449f",
   "metadata": {},
   "outputs": [
    {
     "name": "stdout",
     "output_type": "stream",
     "text": [
      "Iteration: 0\n",
      "Iteration: 1\n",
      "Iteration: 2\n",
      "Iteration: 3\n",
      "Iteration: 4\n",
      "Iteration: 5\n",
      "Iteration: 6\n",
      "Iteration: 7\n",
      "Iteration: 8\n",
      "Iteration: 9\n",
      "Iteration: 10\n",
      "Iteration: 11\n",
      "Iteration: 12\n",
      "Iteration: 13\n",
      "Iteration: 14\n"
     ]
    }
   ],
   "source": [
    "# For Loop\n",
    "for i in range(15):\n",
    "    print(\"Iteration:\", i)\n"
   ]
  },
  {
   "cell_type": "code",
   "execution_count": 7,
   "id": "1cdb63e4-b765-4749-822e-c4757db6da92",
   "metadata": {},
   "outputs": [
    {
     "name": "stdout",
     "output_type": "stream",
     "text": [
      "Iteration: 10\n"
     ]
    }
   ],
   "source": [
    "# For Loop\n",
    "for i in range(15):\n",
    "    if i == 10:\n",
    "        print(\"Iteration:\", i)\n",
    "        break"
   ]
  },
  {
   "cell_type": "code",
   "execution_count": 18,
   "id": "9b2dbd6e-1601-43c6-9b02-48d3e2706ddd",
   "metadata": {},
   "outputs": [
    {
     "name": "stdout",
     "output_type": "stream",
     "text": [
      "Iteration: 0\n",
      "Iteration: 1\n",
      "Iteration: 2\n",
      "Iteration: 3\n",
      "salam\n",
      "salam\n",
      "salam\n",
      "salam\n",
      "salam\n",
      "salam\n",
      "Iteration: 10\n",
      "Iteration: 11\n",
      "Iteration: 12\n"
     ]
    }
   ],
   "source": [
    "# For Loop\n",
    "for i in range(15):\n",
    "    if i > 3 and i<10:\n",
    "        print(\"salam\")\n",
    "        continue # return to FOR and continue \n",
    "    elif i == 13:\n",
    "        break\n",
    "        \n",
    "    print(\"Iteration:\", i)\n",
    "\n",
    "\n",
    "\n",
    "\n",
    "\n",
    "\n",
    "    "
   ]
  },
  {
   "cell_type": "code",
   "execution_count": 4,
   "id": "582cdbd3",
   "metadata": {},
   "outputs": [
    {
     "name": "stdout",
     "output_type": "stream",
     "text": [
      "Count: 0\n",
      "Count: 1\n",
      "Count: 2\n",
      "Count: 3\n"
     ]
    }
   ],
   "source": [
    "# While Loop\n",
    "count = 0\n",
    "while count <= 3:\n",
    "    print(\"Count:\", count)\n",
    "    count += 1 # count = count + 1 \n",
    "    "
   ]
  },
  {
   "cell_type": "code",
   "execution_count": 22,
   "id": "abb93080-b230-4419-9031-4cafb00c0a48",
   "metadata": {},
   "outputs": [
    {
     "name": "stdout",
     "output_type": "stream",
     "text": [
      "Count: 0\n",
      "Count: 1\n",
      "Count: 2\n",
      "Count: 3\n",
      "Count: 4\n",
      "Count: 5\n",
      "Count: 6\n",
      "Count: 7\n",
      "Count: 8\n",
      "Count: 9\n",
      "Finish\n"
     ]
    }
   ],
   "source": [
    "count = 0\n",
    "while True:\n",
    "    if count ==10:\n",
    "        print(\"Finish\")\n",
    "        break\n",
    "    print(\"Count:\", count)\n",
    "    count+=1"
   ]
  },
  {
   "cell_type": "code",
   "execution_count": 23,
   "id": "62ea09ee-58f2-4206-92c8-34a2f4933e44",
   "metadata": {},
   "outputs": [],
   "source": [
    "while False:\n",
    "    print(\"Hello\")"
   ]
  },
  {
   "cell_type": "markdown",
   "id": "18dad5fd",
   "metadata": {},
   "source": [
    "## Functions"
   ]
  },
  {
   "cell_type": "code",
   "execution_count": null,
   "id": "984fc29a",
   "metadata": {},
   "outputs": [],
   "source": [
    "def greet(name):\n",
    "    return \"Hello, \" + name\n",
    "print(greet(\"Alice\"))"
   ]
  },
  {
   "cell_type": "code",
   "execution_count": 26,
   "id": "62c041b9-1cca-489c-aa1d-9488f5d052a7",
   "metadata": {},
   "outputs": [
    {
     "data": {
      "text/plain": [
       "('ali', 30)"
      ]
     },
     "execution_count": 26,
     "metadata": {},
     "output_type": "execute_result"
    }
   ],
   "source": [
    "def functionTypeOne1(name,age):\n",
    "    return name,age\n",
    "\n",
    "functionTypeOne1(name=\"ali\",age=30)\n",
    "\n",
    "\n"
   ]
  },
  {
   "cell_type": "code",
   "execution_count": 27,
   "id": "0b5d7af3-f330-4518-8fee-5c2d1b2b5c1a",
   "metadata": {},
   "outputs": [
    {
     "data": {
      "text/plain": [
       "'ali'"
      ]
     },
     "execution_count": 27,
     "metadata": {},
     "output_type": "execute_result"
    }
   ],
   "source": [
    "def functionTypeOne2(name,age):\n",
    "    return name\n",
    "\n",
    "functionTypeOne2(name=\"ali\",age=30)"
   ]
  },
  {
   "cell_type": "code",
   "execution_count": 28,
   "id": "cdcf9e66-759b-4432-815c-c9b13cb61b0f",
   "metadata": {},
   "outputs": [
    {
     "data": {
      "text/plain": [
       "30"
      ]
     },
     "execution_count": 28,
     "metadata": {},
     "output_type": "execute_result"
    }
   ],
   "source": [
    "def functionTypeOne3(name,age):\n",
    "    return age\n",
    "\n",
    "functionTypeOne3(name=\"ali\",age=30)"
   ]
  },
  {
   "cell_type": "code",
   "execution_count": 29,
   "id": "7f3b5a38-b598-4169-8af8-5d44c831886d",
   "metadata": {},
   "outputs": [
    {
     "data": {
      "text/plain": [
       "3000"
      ]
     },
     "execution_count": 29,
     "metadata": {},
     "output_type": "execute_result"
    }
   ],
   "source": [
    "def functionTypeOne4(name,age):\n",
    "    return age*100\n",
    "\n",
    "functionTypeOne4(name=\"ali\",age=30)"
   ]
  },
  {
   "cell_type": "code",
   "execution_count": 30,
   "id": "c2568c8c-e035-4c7a-9b27-45b19fba327a",
   "metadata": {},
   "outputs": [],
   "source": [
    "def functionTypeTwo1(name,age):\n",
    "    age = age *100\n",
    "\n",
    "functionTypeTwo1(name=\"ali\",age=30)"
   ]
  },
  {
   "cell_type": "code",
   "execution_count": 31,
   "id": "44e02d41-0e43-4c82-963d-4a3c7981cc6e",
   "metadata": {},
   "outputs": [
    {
     "ename": "TypeError",
     "evalue": "functionTypeThree() got an unexpected keyword argument 'name'",
     "output_type": "error",
     "traceback": [
      "\u001b[31m---------------------------------------------------------------------------\u001b[39m",
      "\u001b[31mTypeError\u001b[39m                                 Traceback (most recent call last)",
      "\u001b[36mCell\u001b[39m\u001b[36m \u001b[39m\u001b[32mIn[31]\u001b[39m\u001b[32m, line 4\u001b[39m\n\u001b[32m      1\u001b[39m \u001b[38;5;28;01mdef\u001b[39;00m\u001b[38;5;250m \u001b[39m\u001b[34mfunctionTypeThree\u001b[39m():\n\u001b[32m      2\u001b[39m     age = age *\u001b[32m100\u001b[39m\n\u001b[32m----> \u001b[39m\u001b[32m4\u001b[39m \u001b[43mfunctionTypeThree\u001b[49m\u001b[43m(\u001b[49m\u001b[43mname\u001b[49m\u001b[43m=\u001b[49m\u001b[33;43m\"\u001b[39;49m\u001b[33;43mali\u001b[39;49m\u001b[33;43m\"\u001b[39;49m\u001b[43m,\u001b[49m\u001b[43mage\u001b[49m\u001b[43m=\u001b[49m\u001b[32;43m30\u001b[39;49m\u001b[43m)\u001b[49m\n",
      "\u001b[31mTypeError\u001b[39m: functionTypeThree() got an unexpected keyword argument 'name'"
     ]
    }
   ],
   "source": [
    "def functionTypeThree():\n",
    "    age = age *100\n",
    "\n",
    "functionTypeThree(name=\"ali\",age=30)"
   ]
  },
  {
   "cell_type": "code",
   "execution_count": 32,
   "id": "0c5e133f-8e0f-4185-981f-ed914ba8d7d1",
   "metadata": {},
   "outputs": [
    {
     "ename": "UnboundLocalError",
     "evalue": "cannot access local variable 'age' where it is not associated with a value",
     "output_type": "error",
     "traceback": [
      "\u001b[31m---------------------------------------------------------------------------\u001b[39m",
      "\u001b[31mUnboundLocalError\u001b[39m                         Traceback (most recent call last)",
      "\u001b[36mCell\u001b[39m\u001b[36m \u001b[39m\u001b[32mIn[32]\u001b[39m\u001b[32m, line 1\u001b[39m\n\u001b[32m----> \u001b[39m\u001b[32m1\u001b[39m \u001b[43mfunctionTypeThree\u001b[49m\u001b[43m(\u001b[49m\u001b[43m)\u001b[49m\n",
      "\u001b[36mCell\u001b[39m\u001b[36m \u001b[39m\u001b[32mIn[31]\u001b[39m\u001b[32m, line 2\u001b[39m, in \u001b[36mfunctionTypeThree\u001b[39m\u001b[34m()\u001b[39m\n\u001b[32m      1\u001b[39m \u001b[38;5;28;01mdef\u001b[39;00m\u001b[38;5;250m \u001b[39m\u001b[34mfunctionTypeThree\u001b[39m():\n\u001b[32m----> \u001b[39m\u001b[32m2\u001b[39m     age = \u001b[43mage\u001b[49m *\u001b[32m100\u001b[39m\n",
      "\u001b[31mUnboundLocalError\u001b[39m: cannot access local variable 'age' where it is not associated with a value"
     ]
    }
   ],
   "source": [
    "functionTypeThree()"
   ]
  },
  {
   "cell_type": "code",
   "execution_count": 37,
   "id": "382e9be3-6d4a-4890-a493-08f06ca35d6c",
   "metadata": {},
   "outputs": [],
   "source": [
    "def functionTypeThreeFixed():\n",
    "    age = 10\n",
    "    age = age *100\n",
    "\n",
    "age = 1000000000000000000000000000000000\n",
    "functionTypeThreeFixed()"
   ]
  },
  {
   "cell_type": "code",
   "execution_count": 41,
   "id": "364a6be1-131c-4cbb-accd-9d1375fbf97d",
   "metadata": {},
   "outputs": [
    {
     "data": {
      "text/plain": [
       "19"
      ]
     },
     "execution_count": 41,
     "metadata": {},
     "output_type": "execute_result"
    }
   ],
   "source": [
    "def functionTypeFour():\n",
    "    age = 10\n",
    "    \n",
    "    age = age *100\n",
    "    \n",
    "    \n",
    "    age2 = 200\n",
    "    age3 = 4\n",
    "    \n",
    "    age = 19\n",
    "    \n",
    "    return age\n",
    "    \n",
    "functionTypeFour()"
   ]
  },
  {
   "cell_type": "code",
   "execution_count": 47,
   "id": "ae73913d-bd7c-4790-98f0-616360d276da",
   "metadata": {},
   "outputs": [
    {
     "name": "stdout",
     "output_type": "stream",
     "text": [
      "100\n",
      "200\n",
      "300\n",
      "400\n",
      "500\n",
      "alialialialialialialialialiali\n"
     ]
    }
   ],
   "source": [
    "age = [10,20,30,40,50,'ali']\n",
    "for x in age:\n",
    "    print(x*10)"
   ]
  },
  {
   "cell_type": "code",
   "execution_count": 44,
   "id": "cf0022f3-6b78-474e-a62b-a0436138f56c",
   "metadata": {},
   "outputs": [
    {
     "data": {
      "text/plain": [
       "[100, 200, 300, 400, 500]"
      ]
     },
     "execution_count": 44,
     "metadata": {},
     "output_type": "execute_result"
    }
   ],
   "source": [
    "def functionTypeFour():\n",
    "    age = [10,20,30,40,50]\n",
    "    age2 = [ x*10 for x in age ]\n",
    "    return age2 \n",
    "    \n",
    "functionTypeFour()"
   ]
  },
  {
   "cell_type": "markdown",
   "id": "72d1e1c9",
   "metadata": {},
   "source": [
    "## Dictionaries"
   ]
  },
  {
   "cell_type": "code",
   "execution_count": 53,
   "id": "7f34ad70-a256-4cf7-84a4-5c9fd061b1a3",
   "metadata": {},
   "outputs": [
    {
     "name": "stdout",
     "output_type": "stream",
     "text": [
      "{'name': 'ali', 'age': 25, 'city': 'New York'}\n",
      "Name: ali Age: 25 City: New York\n",
      "\n",
      "{'name': 'hassan', 'age': 30, 'city': 'jahrom'}\n",
      "Name: hassan Age: 30 City: jahrom\n",
      "\n",
      "{'name': 'kambiz', 'age': 14, 'city': 'tehran'}\n",
      "Name: kambiz Age: 14 City: tehran\n",
      "\n"
     ]
    }
   ],
   "source": [
    "person1 = {\"name\": \"ali\", \"age\": 25, \"city\": \"New York\"}\n",
    "person2 = {\"name\": \"hassan\", \"age\": 30, \"city\": \"jahrom\"}\n",
    "person3 = {\"name\": \"kambiz\", \"age\": 14, \"city\": \"tehran\"}\n",
    "\n",
    "students = [person1,person2,person3]\n",
    "\n",
    "for i in students:\n",
    "    print(i)\n",
    "    print(\"Name:\", i[\"name\"], \"Age:\", i[\"age\"], \"City:\", i[\"city\"])\n",
    "    print()"
   ]
  },
  {
   "cell_type": "code",
   "execution_count": 48,
   "id": "2bd78ca1",
   "metadata": {},
   "outputs": [
    {
     "name": "stdout",
     "output_type": "stream",
     "text": [
      "Name: Alice Age: 25 City: New York\n"
     ]
    }
   ],
   "source": [
    "person = {\"name\": \"Alice\", \"age\": 25, \"city\": \"New York\"}\n",
    "# {key:value, }\n",
    "print(\"Name:\", person[\"name\"], \"Age:\", person[\"age\"], \"City:\", person[\"city\"])"
   ]
  },
  {
   "cell_type": "code",
   "execution_count": null,
   "id": "36635983-7c4d-4390-bcbc-cc49181ae9d2",
   "metadata": {},
   "outputs": [],
   "source": []
  },
  {
   "cell_type": "markdown",
   "id": "0eaff6e8",
   "metadata": {},
   "source": [
    "## Exception Handling"
   ]
  },
  {
   "cell_type": "code",
   "execution_count": 54,
   "id": "c4b025a2",
   "metadata": {},
   "outputs": [
    {
     "name": "stdout",
     "output_type": "stream",
     "text": [
      "Error: Division by zero is not allowed\n"
     ]
    }
   ],
   "source": [
    "try:\n",
    "    result = 10 / 0\n",
    "except ZeroDivisionError:\n",
    "    print(\"Error: Division by zero is not allowed\")"
   ]
  },
  {
   "cell_type": "markdown",
   "id": "e1b1b08f",
   "metadata": {},
   "source": [
    "## File Handling"
   ]
  },
  {
   "cell_type": "code",
   "execution_count": 57,
   "id": "6269d1ab",
   "metadata": {},
   "outputs": [
    {
     "name": "stdout",
     "output_type": "stream",
     "text": [
      "File Content: Hello, this is a sample file!\n"
     ]
    }
   ],
   "source": [
    "with open(\"sample.txt\", \"w\") as f:\n",
    "    f.write(\"Hello, this is a sample file!\")\n",
    "\n",
    "with open(\"sample.txt\", \"r\") as file:\n",
    "    content = file.read()\n",
    "    print(\"File Content:\", content)"
   ]
  },
  {
   "cell_type": "markdown",
   "id": "ae47254e",
   "metadata": {},
   "source": [
    "## Congratulations! You've covered the basics of Python!"
   ]
  }
 ],
 "metadata": {
  "kernelspec": {
   "display_name": "Python 3 (ipykernel)",
   "language": "python",
   "name": "python3"
  },
  "language_info": {
   "codemirror_mode": {
    "name": "ipython",
    "version": 3
   },
   "file_extension": ".py",
   "mimetype": "text/x-python",
   "name": "python",
   "nbconvert_exporter": "python",
   "pygments_lexer": "ipython3",
   "version": "3.13.2"
  }
 },
 "nbformat": 4,
 "nbformat_minor": 5
}
